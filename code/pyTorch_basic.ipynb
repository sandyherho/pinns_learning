{
 "cells": [
  {
   "cell_type": "code",
   "execution_count": 6,
   "id": "18124c91-fdd5-4e76-8d28-6c11846a7635",
   "metadata": {},
   "outputs": [],
   "source": [
    "import torch"
   ]
  },
  {
   "cell_type": "code",
   "execution_count": 7,
   "id": "84c505e2-67fb-4421-80f1-411b25154d7e",
   "metadata": {},
   "outputs": [
    {
     "name": "stdout",
     "output_type": "stream",
     "text": [
      "tensor([1.4457e-34])\n"
     ]
    }
   ],
   "source": [
    "x = torch.empty(1) # 1D\n",
    "print(x)"
   ]
  },
  {
   "cell_type": "code",
   "execution_count": 8,
   "id": "e3077636-1a25-43e9-9e04-22ebf35ff1bc",
   "metadata": {},
   "outputs": [
    {
     "name": "stdout",
     "output_type": "stream",
     "text": [
      "tensor([1.4462e-34, 0.0000e+00, 1.4460e-34])\n"
     ]
    }
   ],
   "source": [
    "x = torch.empty(3) # 1D\n",
    "print(x)"
   ]
  },
  {
   "cell_type": "code",
   "execution_count": 9,
   "id": "b5c25e7e-d8cd-4e1d-9480-306312e5e230",
   "metadata": {},
   "outputs": [
    {
     "name": "stdout",
     "output_type": "stream",
     "text": [
      "tensor([[1.8658e-35, 0.0000e+00, 1.4465e-34],\n",
      "        [0.0000e+00, 0.0000e+00, 0.0000e+00],\n",
      "        [0.0000e+00, 0.0000e+00, 0.0000e+00]])\n"
     ]
    }
   ],
   "source": [
    "x = torch.empty(3,3) # 2D\n",
    "print(x)"
   ]
  },
  {
   "cell_type": "code",
   "execution_count": 13,
   "id": "9e9b660c-76dc-4963-8919-fba0a891c861",
   "metadata": {},
   "outputs": [
    {
     "name": "stdout",
     "output_type": "stream",
     "text": [
      "tensor([[[7.2429e-10, 4.5772e-41],\n",
      "         [1.4465e-34, 0.0000e+00],\n",
      "         [9.1477e-41, 0.0000e+00]],\n",
      "\n",
      "        [[1.1210e-44, 0.0000e+00],\n",
      "         [9.6299e-35, 0.0000e+00],\n",
      "         [7.5805e-10, 4.5772e-41]]])\n"
     ]
    }
   ],
   "source": [
    "x = torch.empty(2,3,2)\n",
    "print(x)"
   ]
  },
  {
   "cell_type": "code",
   "execution_count": 15,
   "id": "0459e48b-969f-4553-93b9-9c96a278807a",
   "metadata": {},
   "outputs": [
    {
     "name": "stdout",
     "output_type": "stream",
     "text": [
      "tensor([[0.9145, 0.0509, 0.9234],\n",
      "        [0.0435, 0.7671, 0.3028],\n",
      "        [0.1026, 0.8234, 0.4289]])\n"
     ]
    }
   ],
   "source": [
    "x = torch.rand(3,3)\n",
    "print(x)"
   ]
  },
  {
   "cell_type": "code",
   "execution_count": 16,
   "id": "2ac61a91-034c-42d3-8b4c-a3262a751144",
   "metadata": {},
   "outputs": [
    {
     "name": "stdout",
     "output_type": "stream",
     "text": [
      "tensor([[0., 0., 0.],\n",
      "        [0., 0., 0.],\n",
      "        [0., 0., 0.]])\n"
     ]
    }
   ],
   "source": [
    "x = torch.zeros(3,3)\n",
    "print(x)"
   ]
  },
  {
   "cell_type": "code",
   "execution_count": 17,
   "id": "f51f8eeb-48e2-4c16-86c8-79fac4313960",
   "metadata": {},
   "outputs": [
    {
     "name": "stdout",
     "output_type": "stream",
     "text": [
      "tensor([[1., 1., 1.],\n",
      "        [1., 1., 1.],\n",
      "        [1., 1., 1.]])\n"
     ]
    }
   ],
   "source": [
    "x = torch.ones(3,3)\n",
    "print(x)"
   ]
  },
  {
   "cell_type": "code",
   "execution_count": 19,
   "id": "b3bfe5fd-583e-4caf-8263-b1ff4f6fe766",
   "metadata": {},
   "outputs": [
    {
     "name": "stdout",
     "output_type": "stream",
     "text": [
      "tensor([[1, 1, 1],\n",
      "        [1, 1, 1],\n",
      "        [1, 1, 1]], dtype=torch.int16)\n"
     ]
    }
   ],
   "source": [
    "x = torch.ones(3, 3, dtype=torch.int16)\n",
    "print(x)"
   ]
  },
  {
   "cell_type": "code",
   "execution_count": 22,
   "id": "0ac24c99-da39-41dc-862c-2501f30e22e0",
   "metadata": {},
   "outputs": [
    {
     "name": "stdout",
     "output_type": "stream",
     "text": [
      "tensor([2.5000, 0.1000])\n"
     ]
    }
   ],
   "source": [
    "A = [2.5, 0.1] \n",
    "x = torch.tensor(A)\n",
    "print(x)"
   ]
  },
  {
   "cell_type": "code",
   "execution_count": 25,
   "id": "dcc2d913-074a-4547-aa71-75b31f80a5cc",
   "metadata": {},
   "outputs": [
    {
     "name": "stdout",
     "output_type": "stream",
     "text": [
      "tensor([[0.8021, 0.2009],\n",
      "        [0.4734, 0.9017]])\n",
      "\n",
      "\n",
      "tensor([[0.2187, 0.3712],\n",
      "        [0.5422, 0.7293]])\n"
     ]
    }
   ],
   "source": [
    "x = torch.rand(2,2)\n",
    "y = torch.rand(2,2)\n",
    "print(x)\n",
    "print(\"\\n\")\n",
    "print(y)"
   ]
  },
  {
   "cell_type": "code",
   "execution_count": 27,
   "id": "8671090f-de97-44f3-858a-212b1133a444",
   "metadata": {},
   "outputs": [
    {
     "name": "stdout",
     "output_type": "stream",
     "text": [
      "tensor([[0.1754, 0.0746],\n",
      "        [0.2567, 0.6577]])\n"
     ]
    }
   ],
   "source": [
    "z = x*y\n",
    "print(z)"
   ]
  },
  {
   "cell_type": "code",
   "execution_count": 29,
   "id": "79269b4f-8d24-432e-8781-11c5672d1f6b",
   "metadata": {},
   "outputs": [
    {
     "name": "stdout",
     "output_type": "stream",
     "text": [
      "tensor([[0.1754, 0.0746],\n",
      "        [0.2567, 0.6577]])\n"
     ]
    }
   ],
   "source": [
    "z = torch.mul(x, y) # element wise\n",
    "print(z)"
   ]
  },
  {
   "cell_type": "code",
   "execution_count": 30,
   "id": "b580d5bd-733f-4624-b8e3-461fedebd801",
   "metadata": {},
   "outputs": [
    {
     "name": "stdout",
     "output_type": "stream",
     "text": [
      "tensor([[1.0208, 0.5720],\n",
      "        [1.0156, 1.6311]])\n"
     ]
    }
   ],
   "source": [
    "z = torch.add(x, y) # penjumlahan\n",
    "print(z)"
   ]
  },
  {
   "cell_type": "code",
   "execution_count": 31,
   "id": "472b21cd-7508-4b90-8ad2-4d5ad8fec8a7",
   "metadata": {},
   "outputs": [
    {
     "name": "stdout",
     "output_type": "stream",
     "text": [
      "tensor([[ 0.5834, -0.1703],\n",
      "        [-0.0687,  0.1724]])\n"
     ]
    }
   ],
   "source": [
    "z = torch.sub(x, y) # pengurangan\n",
    "print(z)"
   ]
  },
  {
   "cell_type": "code",
   "execution_count": 33,
   "id": "2d031948-716f-4952-b637-fbd92f7db763",
   "metadata": {},
   "outputs": [
    {
     "name": "stdout",
     "output_type": "stream",
     "text": [
      "tensor([[0.9200, 0.2644, 0.5715],\n",
      "        [0.6663, 0.2822, 0.2916],\n",
      "        [0.5810, 0.0037, 0.1849],\n",
      "        [0.1414, 0.6081, 0.6746],\n",
      "        [0.3613, 0.8270, 0.4768]])\n"
     ]
    }
   ],
   "source": [
    "x = torch.rand(5, 3)\n",
    "print(x)"
   ]
  },
  {
   "cell_type": "code",
   "execution_count": 35,
   "id": "8e7bef86-b1e5-47c5-88fc-c43e45dc8a19",
   "metadata": {},
   "outputs": [
    {
     "data": {
      "text/plain": [
       "tensor([0.9200, 0.6663, 0.5810, 0.1414, 0.3613])"
      ]
     },
     "execution_count": 35,
     "metadata": {},
     "output_type": "execute_result"
    }
   ],
   "source": [
    "x[:, 0] # 1st column all rows"
   ]
  },
  {
   "cell_type": "code",
   "execution_count": 36,
   "id": "af01d54e-5e7c-48df-ab4b-9a2dfb56c33f",
   "metadata": {},
   "outputs": [
    {
     "data": {
      "text/plain": [
       "tensor([0.9200, 0.2644, 0.5715])"
      ]
     },
     "execution_count": 36,
     "metadata": {},
     "output_type": "execute_result"
    }
   ],
   "source": [
    "x[0,:] # 1st row all columns"
   ]
  },
  {
   "cell_type": "code",
   "execution_count": 37,
   "id": "0b42c54f-ca4e-46a9-bb1c-13482c680857",
   "metadata": {},
   "outputs": [
    {
     "data": {
      "text/plain": [
       "tensor([[0.9200, 0.2644, 0.5715],\n",
       "        [0.6663, 0.2822, 0.2916]])"
      ]
     },
     "execution_count": 37,
     "metadata": {},
     "output_type": "execute_result"
    }
   ],
   "source": [
    "x[:2, :]"
   ]
  },
  {
   "cell_type": "code",
   "execution_count": 38,
   "id": "9e3c0063-83ce-4497-997e-a54de82cb2a6",
   "metadata": {},
   "outputs": [
    {
     "data": {
      "text/plain": [
       "tensor(0.9200)"
      ]
     },
     "execution_count": 38,
     "metadata": {},
     "output_type": "execute_result"
    }
   ],
   "source": [
    "x[0,0]"
   ]
  },
  {
   "cell_type": "code",
   "execution_count": 39,
   "id": "8f596d4e-d0ae-4bb9-a799-aa7caf3605fe",
   "metadata": {},
   "outputs": [
    {
     "data": {
      "text/plain": [
       "0.9199695587158203"
      ]
     },
     "execution_count": 39,
     "metadata": {},
     "output_type": "execute_result"
    }
   ],
   "source": [
    "x[0,0].item() # just return the value"
   ]
  },
  {
   "cell_type": "code",
   "execution_count": 41,
   "id": "76236f6f-56d3-4044-a95c-974514ea83b8",
   "metadata": {},
   "outputs": [
    {
     "name": "stdout",
     "output_type": "stream",
     "text": [
      "tensor([[0.8358, 0.2653, 0.3647, 0.3145],\n",
      "        [0.8106, 0.0989, 0.5345, 0.1674],\n",
      "        [0.4485, 0.4558, 0.6466, 0.6909],\n",
      "        [0.4544, 0.3330, 0.0094, 0.3148]])\n"
     ]
    }
   ],
   "source": [
    "x = torch.rand(4,4)\n",
    "print(x)"
   ]
  },
  {
   "cell_type": "code",
   "execution_count": 44,
   "id": "823b163d-fdea-46e4-8651-9652c4e84fb2",
   "metadata": {},
   "outputs": [],
   "source": [
    "y = x.view(16) # flatten"
   ]
  },
  {
   "cell_type": "code",
   "execution_count": 45,
   "id": "4012141f-7447-46c6-a12d-67e0d1ae2e31",
   "metadata": {},
   "outputs": [
    {
     "data": {
      "text/plain": [
       "tensor([0.8358, 0.2653, 0.3647, 0.3145, 0.8106, 0.0989, 0.5345, 0.1674, 0.4485,\n",
       "        0.4558, 0.6466, 0.6909, 0.4544, 0.3330, 0.0094, 0.3148])"
      ]
     },
     "execution_count": 45,
     "metadata": {},
     "output_type": "execute_result"
    }
   ],
   "source": [
    "y"
   ]
  },
  {
   "cell_type": "code",
   "execution_count": 46,
   "id": "88334db6-e607-42fe-b35e-e21940b781b1",
   "metadata": {},
   "outputs": [],
   "source": [
    "y = x.view(2, 8) #2 x 8"
   ]
  },
  {
   "cell_type": "code",
   "execution_count": 47,
   "id": "dea6a0fb-8584-478f-86d3-f2326ad29c4c",
   "metadata": {},
   "outputs": [
    {
     "data": {
      "text/plain": [
       "tensor([[0.8358, 0.2653, 0.3647, 0.3145, 0.8106, 0.0989, 0.5345, 0.1674],\n",
       "        [0.4485, 0.4558, 0.6466, 0.6909, 0.4544, 0.3330, 0.0094, 0.3148]])"
      ]
     },
     "execution_count": 47,
     "metadata": {},
     "output_type": "execute_result"
    }
   ],
   "source": [
    "y"
   ]
  },
  {
   "cell_type": "code",
   "execution_count": 49,
   "id": "baaa3838-e138-4581-ad24-dd1084638c84",
   "metadata": {},
   "outputs": [
    {
     "data": {
      "text/plain": [
       "tensor([[0.8358, 0.2653, 0.3647, 0.3145, 0.8106, 0.0989, 0.5345, 0.1674],\n",
       "        [0.4485, 0.4558, 0.6466, 0.6909, 0.4544, 0.3330, 0.0094, 0.3148]])"
      ]
     },
     "execution_count": 49,
     "metadata": {},
     "output_type": "execute_result"
    }
   ],
   "source": [
    "y = x.view(-1,8) # just want 8 columns\n",
    "y"
   ]
  }
 ],
 "metadata": {
  "kernelspec": {
   "display_name": "Python 3 (ipykernel)",
   "language": "python",
   "name": "python3"
  },
  "language_info": {
   "codemirror_mode": {
    "name": "ipython",
    "version": 3
   },
   "file_extension": ".py",
   "mimetype": "text/x-python",
   "name": "python",
   "nbconvert_exporter": "python",
   "pygments_lexer": "ipython3",
   "version": "3.11.5"
  }
 },
 "nbformat": 4,
 "nbformat_minor": 5
}
