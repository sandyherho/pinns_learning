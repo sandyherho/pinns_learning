{
 "cells": [
  {
   "cell_type": "code",
   "execution_count": 1,
   "id": "bcaad00f-bb35-456d-bfc3-2241fe2cb176",
   "metadata": {},
   "outputs": [],
   "source": [
    "import numpy as np\n",
    "import matplotlib.pyplot as plt\n",
    "import seaborn as sns\n",
    "\n",
    "plt.style.use(\"ggplot\")"
   ]
  },
  {
   "cell_type": "code",
   "execution_count": 3,
   "id": "1ee8786c-e17c-4407-93c8-7395f0aa1a5f",
   "metadata": {},
   "outputs": [],
   "source": [
    "Nx = 200\n",
    "Co = 0.2\n",
    "tMax = 1 # time: 0 - 1\n",
    "viscosity_coeff = (0.01) / np. pi\n",
    "x = np.linspace(-1,1, Nx)\n",
    "u0 = -np.sin(np.pi)\n"
   ]
  },
  {
   "cell_type": "code",
   "execution_count": null,
   "id": "af3c8672-8159-41e0-8a70-e1cd92bc4e1a",
   "metadata": {},
   "outputs": [],
   "source": []
  }
 ],
 "metadata": {
  "kernelspec": {
   "display_name": "Python 3 (ipykernel)",
   "language": "python",
   "name": "python3"
  },
  "language_info": {
   "codemirror_mode": {
    "name": "ipython",
    "version": 3
   },
   "file_extension": ".py",
   "mimetype": "text/x-python",
   "name": "python",
   "nbconvert_exporter": "python",
   "pygments_lexer": "ipython3",
   "version": "3.11.7"
  }
 },
 "nbformat": 4,
 "nbformat_minor": 5
}
