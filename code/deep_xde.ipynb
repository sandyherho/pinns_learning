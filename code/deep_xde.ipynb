{
 "cells": [
  {
   "cell_type": "code",
   "execution_count": 6,
   "id": "5fc70b03-5196-4ca2-9ce6-d01395320597",
   "metadata": {},
   "outputs": [],
   "source": [
    "import re\n",
    "import numpy as np\n",
    "import matplotlib.pyplot as plt\n",
    "from scipy.io import loadmat\n",
    "import deepxde as dde\n",
    "plt.style.use(\"bmh\")"
   ]
  },
  {
   "cell_type": "code",
   "execution_count": 7,
   "id": "3c339d4e-0888-469c-8e0f-43bb64c4bea3",
   "metadata": {},
   "outputs": [],
   "source": [
    "C1_true = 1.0\n",
    "C2_true = 0.01"
   ]
  },
  {
   "cell_type": "code",
   "execution_count": null,
   "id": "c2ce9fea-cf47-4f21-8292-151bf76d2363",
   "metadata": {},
   "outputs": [],
   "source": []
  }
 ],
 "metadata": {
  "kernelspec": {
   "display_name": "Python 3 (ipykernel)",
   "language": "python",
   "name": "python3"
  },
  "language_info": {
   "codemirror_mode": {
    "name": "ipython",
    "version": 3
   },
   "file_extension": ".py",
   "mimetype": "text/x-python",
   "name": "python",
   "nbconvert_exporter": "python",
   "pygments_lexer": "ipython3",
   "version": "3.12.1"
  }
 },
 "nbformat": 4,
 "nbformat_minor": 5
}
