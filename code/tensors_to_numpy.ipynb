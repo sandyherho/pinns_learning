{
 "cells": [
  {
   "cell_type": "code",
   "execution_count": 14,
   "id": "2faaa69e-21a0-4206-b902-c1425710ba14",
   "metadata": {},
   "outputs": [],
   "source": [
    "import numpy as np\n",
    "import torch"
   ]
  },
  {
   "cell_type": "code",
   "execution_count": 15,
   "id": "2ec7f83a-7725-4e95-80d3-34dd660a9dc8",
   "metadata": {},
   "outputs": [
    {
     "name": "stdout",
     "output_type": "stream",
     "text": [
      "tensor([1., 1., 1., 1., 1.])\n"
     ]
    }
   ],
   "source": [
    "a = torch.ones(5)\n",
    "print(a)"
   ]
  },
  {
   "cell_type": "code",
   "execution_count": 16,
   "id": "704775e7-dc1a-4096-ba2b-bce9e87ce00b",
   "metadata": {},
   "outputs": [
    {
     "name": "stdout",
     "output_type": "stream",
     "text": [
      "[0.5 0.4 2. ]\n"
     ]
    }
   ],
   "source": [
    "a_np = np.array([.5, .4, 2])\n",
    "print(a_np)"
   ]
  },
  {
   "cell_type": "code",
   "execution_count": 17,
   "id": "f0b41151-21db-48ab-9186-8fc4bb6cdc9f",
   "metadata": {},
   "outputs": [
    {
     "name": "stdout",
     "output_type": "stream",
     "text": [
      "tensor([0.5000, 0.4000, 2.0000], dtype=torch.float64)\n"
     ]
    }
   ],
   "source": [
    "b_np = torch.tensor(a_np) # array to tensor\n",
    "print(b_np)"
   ]
  },
  {
   "cell_type": "code",
   "execution_count": 18,
   "id": "22091938-87a1-4d1a-8bf6-c70e2e931fe3",
   "metadata": {},
   "outputs": [
    {
     "name": "stdout",
     "output_type": "stream",
     "text": [
      "[1. 1. 1. 1. 1.]\n"
     ]
    }
   ],
   "source": [
    "b = a.numpy()\n",
    "print(b)"
   ]
  },
  {
   "cell_type": "code",
   "execution_count": 13,
   "id": "ddd0ac1d-d14b-4ed6-ad15-9b093c6cdbcb",
   "metadata": {},
   "outputs": [
    {
     "data": {
      "text/plain": [
       "numpy.ndarray"
      ]
     },
     "execution_count": 13,
     "metadata": {},
     "output_type": "execute_result"
    }
   ],
   "source": [
    "type(b)"
   ]
  },
  {
   "cell_type": "code",
   "execution_count": 19,
   "id": "06e7b181-eed1-4aab-ae86-8b5dce40bce8",
   "metadata": {},
   "outputs": [
    {
     "data": {
      "text/plain": [
       "torch.Tensor"
      ]
     },
     "execution_count": 19,
     "metadata": {},
     "output_type": "execute_result"
    }
   ],
   "source": [
    "type(a)"
   ]
  },
  {
   "cell_type": "code",
   "execution_count": 22,
   "id": "66f56b1c-b4cd-4c50-bff6-ebecadd7abcc",
   "metadata": {},
   "outputs": [],
   "source": [
    "if torch.cuda.is_available():\n",
    "    device = torch.device(\"cuda\")\n",
    "    x = torch.ones(5, device=device)\n",
    "    print(x)\n",
    "    # z = x.numpy() # it didn't work"
   ]
  },
  {
   "cell_type": "code",
   "execution_count": 23,
   "id": "d3a8480a-a587-48c9-89bb-9e7cedd0a439",
   "metadata": {},
   "outputs": [],
   "source": [
    "if torch.cuda.is_available():\n",
    "    device = torch.device(\"cuda\")\n",
    "    x = torch.ones(5, device=device)\n",
    "    print(x)\n",
    "    x = x.to(\"cpu\")\n",
    "    print(x)\n",
    "    z = x.numpy()\n",
    "    print(z)"
   ]
  }
 ],
 "metadata": {
  "kernelspec": {
   "display_name": "Python 3 (ipykernel)",
   "language": "python",
   "name": "python3"
  },
  "language_info": {
   "codemirror_mode": {
    "name": "ipython",
    "version": 3
   },
   "file_extension": ".py",
   "mimetype": "text/x-python",
   "name": "python",
   "nbconvert_exporter": "python",
   "pygments_lexer": "ipython3",
   "version": "3.11.5"
  }
 },
 "nbformat": 4,
 "nbformat_minor": 5
}
