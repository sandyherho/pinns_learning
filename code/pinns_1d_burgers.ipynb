{
 "cells": [
  {
   "cell_type": "code",
   "execution_count": 7,
   "id": "5543ac3e-faf1-4842-9e7b-4aa8da96a2a9",
   "metadata": {},
   "outputs": [],
   "source": [
    "# import libs\n",
    "import numpy as np\n",
    "import torch\n",
    "import torch.nn as nn\n",
    "import matplotlib.pyplot as plt\n",
    "import seaborn as sns\n",
    "from tqdm import tqdm\n",
    "plt.style.use(\"ggplot\")"
   ]
  },
  {
   "cell_type": "markdown",
   "id": "16d0cf40-893e-4f8f-8c10-8335962b813d",
   "metadata": {},
   "source": [
    "$x$, $t$ -> $u$"
   ]
  },
  {
   "cell_type": "code",
   "execution_count": 8,
   "id": "40a00731-7bed-4076-ac19-649e33f8128f",
   "metadata": {},
   "outputs": [],
   "source": [
    "# NN def\n",
    "class NN(nn.Module):\n",
    "    def __init__(self):\n",
    "        super(NN, self).__init__()\n",
    "        self.net = torch.nn.Sequential(\n",
    "            nn.Linear(2,20), # x & t -> 20 neurons\n",
    "            nn.Tanh(), # activation funct.\n",
    "            nn.Linear(20, 30), #20 neurons -> 30 neurons\n",
    "            nn.Tanh(), #act, funct\n",
    "            nn.Linear(30, 30), #30-> 20\n",
    "            nn.Tanh(), #af\n",
    "            nn.Linear(30, 20), # 30 ->20\n",
    "            nn.Tanh(), #af\n",
    "            nn.Linear(20, 20), # 20 -> 20\n",
    "            nn.Tanh(), #af\n",
    "            nn.Linear(20, 1), # 20 -> 1\n",
    "        )\n",
    "        \n",
    "    def forward(self, x):\n",
    "        out = self.net(x)\n",
    "        return out"
   ]
  },
  {
   "cell_type": "code",
   "execution_count": 9,
   "id": "e949609b-61be-4ff7-9440-e379a9fd8f33",
   "metadata": {},
   "outputs": [],
   "source": [
    "# data = ICs & BCs\n"
   ]
  },
  {
   "cell_type": "code",
   "execution_count": null,
   "id": "ef01d0ff-0d34-4615-83d5-abe4b328d17f",
   "metadata": {},
   "outputs": [],
   "source": []
  }
 ],
 "metadata": {
  "kernelspec": {
   "display_name": "Python 3 (ipykernel)",
   "language": "python",
   "name": "python3"
  },
  "language_info": {
   "codemirror_mode": {
    "name": "ipython",
    "version": 3
   },
   "file_extension": ".py",
   "mimetype": "text/x-python",
   "name": "python",
   "nbconvert_exporter": "python",
   "pygments_lexer": "ipython3",
   "version": "3.11.5"
  }
 },
 "nbformat": 4,
 "nbformat_minor": 5
}
